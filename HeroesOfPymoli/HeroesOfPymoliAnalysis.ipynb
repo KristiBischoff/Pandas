{
 "cells": [
  {
   "cell_type": "markdown",
   "metadata": {},
   "source": [
    "Heroes Of Pymoli Task"
   ]
  },
  {
   "cell_type": "code",
   "execution_count": null,
   "metadata": {},
   "outputs": [],
   "source": [
    "# Dependencies and Setup\n",
    "\n",
    "import numpy as np\n",
    "import pandas as pd\n",
    "\n",
    "# File to Load\n",
    "file_to_load = \"Resources/purchase_data.csv\"\n",
    "\n",
    "# Read Purchasing File and store into Pandas data frame\n",
    "purchases_pd = pd.read_csv(file_to_load)\n",
    "\n",
    "#show first 5 records of dataframe\n",
    "#purchases_pd.head()"
   ]
  },
  {
   "cell_type": "code",
   "execution_count": 2,
   "metadata": {},
   "outputs": [
    {
     "name": "stdout",
     "output_type": "stream",
     "text": [
      "<pandas.core.groupby.groupby.DataFrameGroupBy object at 0x0000021A3C6B1940>\n"
     ]
    }
   ],
   "source": [
    "#Total number of players\n",
    "\n",
    "grouped_BY_Players_pd = purchases_pd.groupby([\"SN\"])\n",
    "print(grouped_BY_Players_pd) \n",
    "\n",
    "#grouped_BY_Players_pd.count().head(10)\n",
    "                                  \n",
    "#Total_Players = Total_BY_Players.count()\n",
    "#Total_Players\n",
    "\n"
   ]
  },
  {
   "cell_type": "markdown",
   "metadata": {},
   "source": [
    "# Calculate Statistics:"
   ]
  },
  {
   "cell_type": "code",
   "execution_count": 3,
   "metadata": {},
   "outputs": [
    {
     "data": {
      "text/plain": [
       "576"
      ]
     },
     "execution_count": 3,
     "metadata": {},
     "output_type": "execute_result"
    }
   ],
   "source": [
    "#Total number of players\n",
    "Player_total = grouped_BY_Players_pd[\"SN\"].sum()\n",
    "Player_total.count()"
   ]
  },
  {
   "cell_type": "code",
   "execution_count": 4,
   "metadata": {},
   "outputs": [
    {
     "name": "stdout",
     "output_type": "stream",
     "text": [
      "<pandas.core.groupby.groupby.DataFrameGroupBy object at 0x0000021A3C8A2B00>\n"
     ]
    }
   ],
   "source": [
    "# Using GroupBy in order to separate the data into fields according to \"state\" values\n",
    "grouped_item_pd = purchases_pd.groupby(['Item ID'])\n",
    "\n",
    "# The object returned is a \"GroupBy\" object and cannot be viewed normally...\n",
    "print(grouped_item_pd)\n",
    "\n"
   ]
  },
  {
   "cell_type": "code",
   "execution_count": 5,
   "metadata": {},
   "outputs": [
    {
     "data": {
      "text/plain": [
       "183"
      ]
     },
     "execution_count": 5,
     "metadata": {},
     "output_type": "execute_result"
    }
   ],
   "source": [
    "# Total number of unique items\n",
    "item_total_pd = purchases_pd[\"Item ID\"].value_counts()\n",
    "unique_item_total = item_total_pd.count()\n",
    "unique_item_total"
   ]
  },
  {
   "cell_type": "code",
   "execution_count": 6,
   "metadata": {},
   "outputs": [
    {
     "data": {
      "text/plain": [
       "3.050987179487176"
      ]
     },
     "execution_count": 6,
     "metadata": {},
     "output_type": "execute_result"
    }
   ],
   "source": [
    "#Average purchase price\n",
    "\n",
    "Avg_Price = purchases_pd[\"Price\"].mean()\n",
    "Avg_Price"
   ]
  },
  {
   "cell_type": "code",
   "execution_count": 7,
   "metadata": {},
   "outputs": [
    {
     "data": {
      "text/plain": [
       "780"
      ]
     },
     "execution_count": 7,
     "metadata": {},
     "output_type": "execute_result"
    }
   ],
   "source": [
    "#Total number of purchases\n",
    "Total_Purchases = purchases_pd[\"Purchase ID\"].count()\n",
    "Total_Purchases"
   ]
  },
  {
   "cell_type": "code",
   "execution_count": 8,
   "metadata": {},
   "outputs": [
    {
     "data": {
      "text/plain": [
       "2379.77"
      ]
     },
     "execution_count": 8,
     "metadata": {},
     "output_type": "execute_result"
    }
   ],
   "source": [
    "#calculate total revenue\n",
    "Total_revenue = purchases_pd[\"Price\"].sum()\n",
    "Total_revenue"
   ]
  },
  {
   "cell_type": "code",
   "execution_count": 9,
   "metadata": {},
   "outputs": [
    {
     "data": {
      "text/plain": [
       "{'Number of Unique Items': 183,\n",
       " 'Average Price': 3.050987179487176,\n",
       " 'Total Purchases': 780,\n",
       " 'Total Revenue': 2379.77}"
      ]
     },
     "execution_count": 9,
     "metadata": {},
     "output_type": "execute_result"
    }
   ],
   "source": [
    "# Creating a new DataFrame using stats, but first make a dictionary\n",
    "summary_table = ({\"Number of Unique Items\": unique_item_total,\n",
    "                                    \"Average Price\": Avg_Price,\n",
    "                              \"Total Purchases\": Total_Purchases,\n",
    "                              \"Total Revenue\": Total_revenue})\n",
    "summary_table"
   ]
  },
  {
   "cell_type": "code",
   "execution_count": 10,
   "metadata": {},
   "outputs": [
    {
     "data": {
      "text/html": [
       "<div>\n",
       "<style scoped>\n",
       "    .dataframe tbody tr th:only-of-type {\n",
       "        vertical-align: middle;\n",
       "    }\n",
       "\n",
       "    .dataframe tbody tr th {\n",
       "        vertical-align: top;\n",
       "    }\n",
       "\n",
       "    .dataframe thead th {\n",
       "        text-align: right;\n",
       "    }\n",
       "</style>\n",
       "<table border=\"1\" class=\"dataframe\">\n",
       "  <thead>\n",
       "    <tr style=\"text-align: right;\">\n",
       "      <th></th>\n",
       "      <th>0</th>\n",
       "    </tr>\n",
       "  </thead>\n",
       "  <tbody>\n",
       "    <tr>\n",
       "      <th>Number of Unique Items</th>\n",
       "      <td>183.000000</td>\n",
       "    </tr>\n",
       "    <tr>\n",
       "      <th>Average Price</th>\n",
       "      <td>3.050987</td>\n",
       "    </tr>\n",
       "    <tr>\n",
       "      <th>Total Purchases</th>\n",
       "      <td>780.000000</td>\n",
       "    </tr>\n",
       "    <tr>\n",
       "      <th>Total Revenue</th>\n",
       "      <td>2379.770000</td>\n",
       "    </tr>\n",
       "  </tbody>\n",
       "</table>\n",
       "</div>"
      ],
      "text/plain": [
       "                                  0\n",
       "Number of Unique Items   183.000000\n",
       "Average Price              3.050987\n",
       "Total Purchases          780.000000\n",
       "Total Revenue           2379.770000"
      ]
     },
     "execution_count": 10,
     "metadata": {},
     "output_type": "execute_result"
    }
   ],
   "source": [
    "#create dataframe from dictionary\n",
    "pd.DataFrame.from_dict(summary_table, orient = 'index')"
   ]
  },
  {
   "cell_type": "markdown",
   "metadata": {},
   "source": [
    "# Gender Analysis"
   ]
  },
  {
   "cell_type": "code",
   "execution_count": 11,
   "metadata": {},
   "outputs": [
    {
     "name": "stdout",
     "output_type": "stream",
     "text": [
      "                        Purchase ID  Age  Item ID  \\\n",
      "SN              Gender                              \n",
      "Adairialis76    Male            467   16      123   \n",
      "Adastirin33     Female          142   35      175   \n",
      "Aeda94          Male            388   17      128   \n",
      "Aela59          Male             28   21      119   \n",
      "Aelaria33       Male            630   23      171   \n",
      "Aelastirin39    Male            218   23       76   \n",
      "Aelidru27       Male            705   22      183   \n",
      "Aelin32         Male             52   20       60   \n",
      "Aelly27         Male             43   24      116   \n",
      "Aellynun67      Male            286   25      153   \n",
      "Aellyria80      Male            746   23      159   \n",
      "Aelollo59       Male            203   33        3   \n",
      "Aenarap34       Male            183   21       15   \n",
      "Aeral43         Male            263   24       78   \n",
      "Aeral68         Male            674   43       77   \n",
      "Aeral97         Male            167   23      157   \n",
      "Aeralria27      Male             32   10      133   \n",
      "Aeralstical35   Male            583   20       49   \n",
      "Aeri84          Male            303   24       71   \n",
      "Aerillorin70    Male            381   16       83   \n",
      "Aerithllora36   Female          274   29       82   \n",
      "Aerithnucal56   Male            324   15      154   \n",
      "Aerithnuphos61  Male            517   39      128   \n",
      "Aerithriaphos45 Male             40   20      143   \n",
      "Aerithriaphos46 Male            236   16      107   \n",
      "Aesri53         Male            541   31      161   \n",
      "Aesty53         Male            124   21      150   \n",
      "Aestysu37       Male            309   25      170   \n",
      "Aesur96         Male            468   23       30   \n",
      "Aesurstilis64   Male            405   25       70   \n",
      "...                             ...  ...      ...   \n",
      "Undosia27       Male            229   17       72   \n",
      "Undosian34      Male             90   21       60   \n",
      "Undotesta33     Male            704   18       95   \n",
      "Wailin72        Female          283   21        9   \n",
      "Yadacal26       Male            337   15       17   \n",
      "Yadaisuir65     Male            625   20      133   \n",
      "Yadam35         Male            553   28        2   \n",
      "Yadanu52        Male             60   34       44   \n",
      "Yadaphos40      Male             62   30      178   \n",
      "Yalae81         Male              5   22       81   \n",
      "Yalaeria91      Male            681   33       28   \n",
      "Yaliru88        Male             59   19      105   \n",
      "Yalo85          Male            383   34       11   \n",
      "Yalostiphos68   Male            518   29      160   \n",
      "Yana46          Female          280   20       16   \n",
      "Yarithllodeu72  Male            364   22       88   \n",
      "Yarithrgue83    Male            279   20      163   \n",
      "Yarithrin84     Female          698   30       58   \n",
      "Yarithsurgue62  Male            231   26      139   \n",
      "Yarolwen77      Male            696   30       87   \n",
      "Yasrisu92       Male             46   27      102   \n",
      "Yastyriaphos75  Male            340   22       41   \n",
      "Yasur35         Male            257   26      175   \n",
      "Yasur85         Male            514   21       21   \n",
      "Yathecal72      Male            777   20       67   \n",
      "Yathecal82      Female          125   20       62   \n",
      "Yathedeu43      Male             93   22       88   \n",
      "Yoishirrala98   Female          572   17      145   \n",
      "Zhisrisu83      Male             54   10       25   \n",
      "Zontibe81       Male             17   21      161   \n",
      "\n",
      "                                                           Item Name  Price  \n",
      "SN              Gender                                                       \n",
      "Adairialis76    Male                               Twilight's Carver   2.28  \n",
      "Adastirin33     Female                    Woeful Adamantite Claymore   4.48  \n",
      "Aeda94          Male                   Blazeguard, Reach of Eternity   4.91  \n",
      "Aela59          Male       Stormbringer, Dark Blade of Ending Misery   4.32  \n",
      "Aelaria33       Male                                         Scalpel   1.79  \n",
      "Aelastirin39    Male                        Haunted Bronzed Bludgeon   3.15  \n",
      "Aelidru27       Male                             Dragon's Greatsword   1.09  \n",
      "Aelin32         Male                                            Wolf   3.54  \n",
      "Aelly27         Male                         Renewed Skeletal Katana   4.18  \n",
      "Aellynun67      Male                                 Mercenary Sabre   3.74  \n",
      "Aellyria80      Male               Oathbreaker, Spellblade of Trials   3.08  \n",
      "Aelollo59       Male                                    Phantomlight   2.49  \n",
      "Aenarap34       Male                            Soul Infused Crystal   2.96  \n",
      "Aeral43         Male                      Glimmer, Ender of the Moon   4.40  \n",
      "Aeral68         Male                      Piety, Guardian of Riddles   4.00  \n",
      "Aeral97         Male                         Spada, Etcher of Hatred   4.80  \n",
      "Aeralria27      Male                                Faith's Scimitar   4.09  \n",
      "Aeralstical35   Male                The Oculus, Token of Lost Worlds   2.96  \n",
      "Aeri84          Male                                          Demise   1.61  \n",
      "Aerillorin70    Male                                      Lifebender   3.33  \n",
      "Aerithllora36   Female                                       Nirvana   4.90  \n",
      "Aerithnucal56   Male                                    Feral Katana   4.40  \n",
      "Aerithnuphos61  Male                   Blazeguard, Reach of Eternity   4.91  \n",
      "Aerithriaphos45 Male                               Frenzied Scimitar   1.56  \n",
      "Aerithriaphos46 Male                       Splitter, Foe Of Subtlety   2.18  \n",
      "Aesri53         Male                                          Devine   1.76  \n",
      "Aesty53         Male                                       Deathraze   2.85  \n",
      "Aestysu37       Male                                     Shadowsteel   3.97  \n",
      "Aesur96         Male                                     Stormcaller   2.21  \n",
      "Aesurstilis64   Male                                      Hope's End   1.03  \n",
      "...                                                              ...    ...  \n",
      "Undosia27       Male                                   Winter's Bite   3.77  \n",
      "Undosian34      Male                                            Wolf   3.54  \n",
      "Undotesta33     Male                           Singed Onyx Warscythe   4.74  \n",
      "Wailin72        Female             Thorn, Conqueror of the Corrupted   2.73  \n",
      "Yadacal26       Male                    Lazarus, Terror of the Earth   1.70  \n",
      "Yadaisuir65     Male                                Faith's Scimitar   4.09  \n",
      "Yadam35         Male                                         Verdict   2.48  \n",
      "Yadanu52        Male                           Bonecarvin Battle Axe   2.38  \n",
      "Yadaphos40      Male    Oathbreaker, Last Hope of the Breaking Storm   4.23  \n",
      "Yalae81         Male                                       Dreamkiss   3.61  \n",
      "Yalaeria91      Male                Flux, Destroyer of Due Diligence   1.06  \n",
      "Yaliru88        Male                    Hailstorm Shadowsteel Scythe   3.03  \n",
      "Yalo85          Male                                       Brimstone   3.65  \n",
      "Yalostiphos68   Male                                      Azurewrath   4.40  \n",
      "Yana46          Female                               Restored Bauble   3.55  \n",
      "Yarithllodeu72  Male                Emberling, Defender of Delusions   3.75  \n",
      "Yarithrgue83    Male                            Thunderfury Scimitar   3.45  \n",
      "Yarithrin84     Female             Freak's Bite, Favor of Holy Might   4.14  \n",
      "Yarithsurgue62  Male                         Mercy, Katana of Dismay   4.94  \n",
      "Yarolwen77      Male                        Deluge, Edge of the West   4.43  \n",
      "Yasrisu92       Male                                         Avenger   3.44  \n",
      "Yastyriaphos75  Male                                           Orbit   4.75  \n",
      "Yasur35         Male                      Woeful Adamantite Claymore   4.48  \n",
      "Yasur85         Male                                       Souleater   1.10  \n",
      "Yathecal72      Male           Celeste, Incarnation of the Corrupted   3.46  \n",
      "Yathecal82      Female                                   Piece Maker   1.87  \n",
      "Yathedeu43      Male                Emberling, Defender of Delusions   3.75  \n",
      "Yoishirrala98   Female                          Fiery Glass Crusader   4.58  \n",
      "Zhisrisu83      Male                                       Hero Cane   4.35  \n",
      "Zontibe81       Male                                          Devine   1.76  \n",
      "\n",
      "[576 rows x 5 columns]\n"
     ]
    },
    {
     "data": {
      "text/plain": [
       "Purchase ID    576\n",
       "Age            576\n",
       "Item ID        576\n",
       "Item Name      576\n",
       "Price          576\n",
       "dtype: int64"
      ]
     },
     "execution_count": 11,
     "metadata": {},
     "output_type": "execute_result"
    }
   ],
   "source": [
    "#Gender demographics\n",
    "\n",
    "#Percentage and Count of Male Players\n",
    "#Percentage and Count of Female Players\n",
    "#Percentage and Count of Other / Non-Disclosed\n",
    "\n",
    "#grouped_gender = grouped_BY_Players_pd[\"Gender\".count\n",
    "\n",
    "\n",
    "#grouped_gender\n",
    "\n",
    "#gender_count = grouped_gender_df[\"Gender\"].count()\n",
    "#gender_count\n",
    "\n",
    "#gender_count = grouped_gender_df[\"Gender\"].count()\n",
    "#gender_count\n",
    "\n",
    "\n",
    "sortforgen_pd = purchases_pd.groupby(['SN','Gender']).first()\n",
    "print(sortforgen_pd)\n",
    "\n",
    "sortforgen_pd.count()\n",
    "\n",
    "#Total_count = gender_df[\"Gender\"].count()\n",
    "#Total_count\n",
    "\n"
   ]
  },
  {
   "cell_type": "code",
   "execution_count": 12,
   "metadata": {},
   "outputs": [],
   "source": [
    "Total_gender = sortforgen_pd.groupby(['Gender']).size().to_frame('Total Count').reset_index()\n",
    "#Total_gender\n"
   ]
  },
  {
   "cell_type": "code",
   "execution_count": 13,
   "metadata": {},
   "outputs": [
    {
     "data": {
      "text/html": [
       "<div>\n",
       "<style scoped>\n",
       "    .dataframe tbody tr th:only-of-type {\n",
       "        vertical-align: middle;\n",
       "    }\n",
       "\n",
       "    .dataframe tbody tr th {\n",
       "        vertical-align: top;\n",
       "    }\n",
       "\n",
       "    .dataframe thead th {\n",
       "        text-align: right;\n",
       "    }\n",
       "</style>\n",
       "<table border=\"1\" class=\"dataframe\">\n",
       "  <thead>\n",
       "    <tr style=\"text-align: right;\">\n",
       "      <th></th>\n",
       "      <th>Gender</th>\n",
       "      <th>Total Count</th>\n",
       "      <th>Percentage of Players</th>\n",
       "    </tr>\n",
       "  </thead>\n",
       "  <tbody>\n",
       "    <tr>\n",
       "      <th>0</th>\n",
       "      <td>Female</td>\n",
       "      <td>81</td>\n",
       "      <td>14.062500</td>\n",
       "    </tr>\n",
       "    <tr>\n",
       "      <th>1</th>\n",
       "      <td>Male</td>\n",
       "      <td>484</td>\n",
       "      <td>84.027778</td>\n",
       "    </tr>\n",
       "    <tr>\n",
       "      <th>2</th>\n",
       "      <td>Other / Non-Disclosed</td>\n",
       "      <td>11</td>\n",
       "      <td>1.909722</td>\n",
       "    </tr>\n",
       "  </tbody>\n",
       "</table>\n",
       "</div>"
      ],
      "text/plain": [
       "                  Gender  Total Count  Percentage of Players\n",
       "0                 Female           81              14.062500\n",
       "1                   Male          484              84.027778\n",
       "2  Other / Non-Disclosed           11               1.909722"
      ]
     },
     "execution_count": 13,
     "metadata": {},
     "output_type": "execute_result"
    }
   ],
   "source": [
    "#Create dataframe\n",
    "Gender_sum = Total_gender[\"Total Count\"].sum()\n",
    "Gender_sum\n",
    "\n",
    "Total_gender[\"Percentage of Players\"] = Total_gender[\"Total Count\"]/Gender_sum * 100\n",
    "Total_gender"
   ]
  },
  {
   "cell_type": "code",
   "execution_count": 14,
   "metadata": {},
   "outputs": [
    {
     "name": "stdout",
     "output_type": "stream",
     "text": [
      "<pandas.core.groupby.groupby.DataFrameGroupBy object at 0x0000021A3C902C18>\n"
     ]
    }
   ],
   "source": [
    "#Purchasing Analysis, Gender\n",
    "\n",
    "#Purchase count\n",
    "Gender_analysis_pd = purchases_pd.groupby(['Gender'])\n",
    "print(Gender_analysis_pd)\n",
    "\n",
    "Purchase_g_count = Gender_analysis_pd[\"Purchase ID\"].count()\n",
    "#Purchase_g_count\n"
   ]
  },
  {
   "cell_type": "code",
   "execution_count": 15,
   "metadata": {},
   "outputs": [],
   "source": [
    "#Average Purchase Price\n",
    "Average_g_price = Gender_analysis_pd[\"Price\"].mean()\n",
    "#Average_g_price"
   ]
  },
  {
   "cell_type": "code",
   "execution_count": 16,
   "metadata": {},
   "outputs": [],
   "source": [
    "#Total Purchase Value\n",
    "Total_g_price = Gender_analysis_pd[\"Price\"].sum()\n",
    "#Total_g_price"
   ]
  },
  {
   "cell_type": "code",
   "execution_count": 17,
   "metadata": {},
   "outputs": [],
   "source": [
    "#Average Purchase Total Per Person By Gender\n",
    "\n",
    "dfSNgen_pd = purchases_pd.groupby(['SN','Gender'], as_index=False).Price.sum()\n",
    "#dfSNgen_pd.head()\n"
   ]
  },
  {
   "cell_type": "code",
   "execution_count": 18,
   "metadata": {},
   "outputs": [],
   "source": [
    "dfgender_total = dfSNgen_pd.groupby(['Gender']).Price.mean()\n",
    "#dfgender_total"
   ]
  },
  {
   "cell_type": "code",
   "execution_count": 19,
   "metadata": {},
   "outputs": [],
   "source": [
    "gendersummary_table_df = ({\"Purchase Count\": Purchase_g_count,\n",
    "                                    \"Average Price\": Average_g_price,\n",
    "                              \"Total Purchase Value\": Total_g_price,\n",
    "                              \"Avg Total Purchase Per Person\": dfgender_total})\n",
    "#gendersummary_table_df"
   ]
  },
  {
   "cell_type": "code",
   "execution_count": 20,
   "metadata": {},
   "outputs": [
    {
     "data": {
      "text/html": [
       "<div>\n",
       "<style scoped>\n",
       "    .dataframe tbody tr th:only-of-type {\n",
       "        vertical-align: middle;\n",
       "    }\n",
       "\n",
       "    .dataframe tbody tr th {\n",
       "        vertical-align: top;\n",
       "    }\n",
       "\n",
       "    .dataframe thead th {\n",
       "        text-align: right;\n",
       "    }\n",
       "</style>\n",
       "<table border=\"1\" class=\"dataframe\">\n",
       "  <thead>\n",
       "    <tr style=\"text-align: right;\">\n",
       "      <th></th>\n",
       "      <th>Female</th>\n",
       "      <th>Male</th>\n",
       "      <th>Other / Non-Disclosed</th>\n",
       "    </tr>\n",
       "  </thead>\n",
       "  <tbody>\n",
       "    <tr>\n",
       "      <th>Average Price</th>\n",
       "      <td>3.203009</td>\n",
       "      <td>3.017853</td>\n",
       "      <td>3.346000</td>\n",
       "    </tr>\n",
       "    <tr>\n",
       "      <th>Avg Total Purchase Per Person</th>\n",
       "      <td>4.468395</td>\n",
       "      <td>4.065372</td>\n",
       "      <td>4.562727</td>\n",
       "    </tr>\n",
       "    <tr>\n",
       "      <th>Purchase Count</th>\n",
       "      <td>113.000000</td>\n",
       "      <td>652.000000</td>\n",
       "      <td>15.000000</td>\n",
       "    </tr>\n",
       "    <tr>\n",
       "      <th>Total Purchase Value</th>\n",
       "      <td>361.940000</td>\n",
       "      <td>1967.640000</td>\n",
       "      <td>50.190000</td>\n",
       "    </tr>\n",
       "  </tbody>\n",
       "</table>\n",
       "</div>"
      ],
      "text/plain": [
       "                                   Female         Male  Other / Non-Disclosed\n",
       "Average Price                    3.203009     3.017853               3.346000\n",
       "Avg Total Purchase Per Person    4.468395     4.065372               4.562727\n",
       "Purchase Count                 113.000000   652.000000              15.000000\n",
       "Total Purchase Value           361.940000  1967.640000              50.190000"
      ]
     },
     "execution_count": 20,
     "metadata": {},
     "output_type": "execute_result"
    }
   ],
   "source": [
    "#Create dataframe\n",
    "pd.DataFrame.from_dict(gendersummary_table_df, orient = 'index')"
   ]
  },
  {
   "cell_type": "markdown",
   "metadata": {},
   "source": [
    "# Age Analysis"
   ]
  },
  {
   "cell_type": "code",
   "execution_count": 21,
   "metadata": {},
   "outputs": [],
   "source": [
    "#The below each broken into bins of 4 years (i.e. &lt;10, 10-14, 15-19, etc.)\n",
    "#Purchase Count\n",
    "#Average Purchase Price\n",
    "#Total Purchase Value\n",
    "#Average Purchase Total per Person by Age Group"
   ]
  },
  {
   "cell_type": "code",
   "execution_count": 22,
   "metadata": {},
   "outputs": [],
   "source": [
    "# Create the bins in which Data will be held\n",
    "\n",
    "#bins = [0, 10, 14, 19, 24, 29, 34, 39, 40]\n",
    "bins = [0, 9, 14, 19, 24, 29, 34, 39, 100]\n",
    "# Create the names for the four bins\n",
    "group_names = [\"Lt 10\", \"10-14\", \"15-19\", \"20-24\", \"25-29\", \"29-34\", \"35-39\", \"gt 40\"]"
   ]
  },
  {
   "cell_type": "code",
   "execution_count": 23,
   "metadata": {},
   "outputs": [],
   "source": [
    "purchases_pd[\"Age Categories\"] = pd.cut(purchases_pd[\"Age\"], bins, labels=group_names)\n",
    "#purchases_pd.head()"
   ]
  },
  {
   "cell_type": "code",
   "execution_count": 24,
   "metadata": {},
   "outputs": [
    {
     "name": "stdout",
     "output_type": "stream",
     "text": [
      "<pandas.core.groupby.groupby.DataFrameGroupBy object at 0x0000021A3C968CF8>\n"
     ]
    }
   ],
   "source": [
    "sortforage_pd = purchases_pd.groupby(['Age Categories'])\n",
    "print(sortforage_pd)\n",
    "\n",
    "ByAge_purchasecount = sortforage_pd['Purchase ID'].count()\n",
    "#ByAge_purchasecount"
   ]
  },
  {
   "cell_type": "code",
   "execution_count": 25,
   "metadata": {},
   "outputs": [],
   "source": [
    "#Average Purchase Price\n",
    "Average_A_price = sortforage_pd[\"Price\"].mean()\n",
    "#Average_A_price"
   ]
  },
  {
   "cell_type": "code",
   "execution_count": 26,
   "metadata": {},
   "outputs": [],
   "source": [
    "#Total Purchase Value\n",
    "Total_A_price = sortforage_pd[\"Price\"].sum()\n",
    "#Total_A_price"
   ]
  },
  {
   "cell_type": "code",
   "execution_count": 27,
   "metadata": {},
   "outputs": [],
   "source": [
    "#Average Purchase Total per Person by Age Group\n",
    "dfSNage_pd = purchases_pd.groupby(['SN','Age Categories'], as_index=False).Price.sum()\n",
    "#dfSNage_pd.head()\n"
   ]
  },
  {
   "cell_type": "code",
   "execution_count": 28,
   "metadata": {},
   "outputs": [],
   "source": [
    "dfage_pd = dfSNage_pd.groupby(['Age Categories']).Price.mean()\n",
    "#dfage_pd"
   ]
  },
  {
   "cell_type": "code",
   "execution_count": 29,
   "metadata": {},
   "outputs": [],
   "source": [
    "agesummary_table_df = ({\"Purchase Count\": ByAge_purchasecount,\n",
    "                                    \"Average Price\": Average_A_price,\n",
    "                              \"Total Purchase Value\": Total_A_price,\n",
    "                              \"Avg Total Purchase Per Person\": dfage_pd})\n",
    "#agesummary_table_df"
   ]
  },
  {
   "cell_type": "code",
   "execution_count": 30,
   "metadata": {},
   "outputs": [
    {
     "data": {
      "text/html": [
       "<div>\n",
       "<style scoped>\n",
       "    .dataframe tbody tr th:only-of-type {\n",
       "        vertical-align: middle;\n",
       "    }\n",
       "\n",
       "    .dataframe tbody tr th {\n",
       "        vertical-align: top;\n",
       "    }\n",
       "\n",
       "    .dataframe thead th {\n",
       "        text-align: right;\n",
       "    }\n",
       "</style>\n",
       "<table border=\"1\" class=\"dataframe\">\n",
       "  <thead>\n",
       "    <tr style=\"text-align: right;\">\n",
       "      <th></th>\n",
       "      <th>Lt 10</th>\n",
       "      <th>10-14</th>\n",
       "      <th>15-19</th>\n",
       "      <th>20-24</th>\n",
       "      <th>25-29</th>\n",
       "      <th>29-34</th>\n",
       "      <th>35-39</th>\n",
       "      <th>gt 40</th>\n",
       "    </tr>\n",
       "  </thead>\n",
       "  <tbody>\n",
       "    <tr>\n",
       "      <th>Average Price</th>\n",
       "      <td>3.353478</td>\n",
       "      <td>2.956429</td>\n",
       "      <td>3.035956</td>\n",
       "      <td>3.052219</td>\n",
       "      <td>2.900990</td>\n",
       "      <td>2.931507</td>\n",
       "      <td>3.601707</td>\n",
       "      <td>2.941538</td>\n",
       "    </tr>\n",
       "    <tr>\n",
       "      <th>Avg Total Purchase Per Person</th>\n",
       "      <td>4.537059</td>\n",
       "      <td>3.762727</td>\n",
       "      <td>3.858785</td>\n",
       "      <td>4.318062</td>\n",
       "      <td>3.805195</td>\n",
       "      <td>4.115385</td>\n",
       "      <td>4.763548</td>\n",
       "      <td>3.186667</td>\n",
       "    </tr>\n",
       "    <tr>\n",
       "      <th>Purchase Count</th>\n",
       "      <td>23.000000</td>\n",
       "      <td>28.000000</td>\n",
       "      <td>136.000000</td>\n",
       "      <td>365.000000</td>\n",
       "      <td>101.000000</td>\n",
       "      <td>73.000000</td>\n",
       "      <td>41.000000</td>\n",
       "      <td>13.000000</td>\n",
       "    </tr>\n",
       "    <tr>\n",
       "      <th>Total Purchase Value</th>\n",
       "      <td>77.130000</td>\n",
       "      <td>82.780000</td>\n",
       "      <td>412.890000</td>\n",
       "      <td>1114.060000</td>\n",
       "      <td>293.000000</td>\n",
       "      <td>214.000000</td>\n",
       "      <td>147.670000</td>\n",
       "      <td>38.240000</td>\n",
       "    </tr>\n",
       "  </tbody>\n",
       "</table>\n",
       "</div>"
      ],
      "text/plain": [
       "                                   Lt 10      10-14       15-19        20-24  \\\n",
       "Average Price                   3.353478   2.956429    3.035956     3.052219   \n",
       "Avg Total Purchase Per Person   4.537059   3.762727    3.858785     4.318062   \n",
       "Purchase Count                 23.000000  28.000000  136.000000   365.000000   \n",
       "Total Purchase Value           77.130000  82.780000  412.890000  1114.060000   \n",
       "\n",
       "                                    25-29       29-34       35-39      gt 40  \n",
       "Average Price                    2.900990    2.931507    3.601707   2.941538  \n",
       "Avg Total Purchase Per Person    3.805195    4.115385    4.763548   3.186667  \n",
       "Purchase Count                 101.000000   73.000000   41.000000  13.000000  \n",
       "Total Purchase Value           293.000000  214.000000  147.670000  38.240000  "
      ]
     },
     "execution_count": 30,
     "metadata": {},
     "output_type": "execute_result"
    }
   ],
   "source": [
    "pd.DataFrame.from_dict(agesummary_table_df, orient = 'index')"
   ]
  },
  {
   "cell_type": "markdown",
   "metadata": {},
   "source": [
    "# Various Analyses"
   ]
  },
  {
   "cell_type": "code",
   "execution_count": 31,
   "metadata": {},
   "outputs": [],
   "source": [
    "#Identify the the top 5 spenders in the game by total purchase value, then list (in a table):\n",
    "#SN\n",
    "#Purchase Count\n",
    "#Average Purchase Price\n",
    "#Total Purchase Value"
   ]
  },
  {
   "cell_type": "code",
   "execution_count": 32,
   "metadata": {},
   "outputs": [],
   "source": [
    "#group by SN\n",
    "dfSN_pd = purchases_pd.groupby(['SN'], as_index=False).Price.sum()\n",
    "#dfSN_pd.head()"
   ]
  },
  {
   "cell_type": "code",
   "execution_count": 33,
   "metadata": {},
   "outputs": [],
   "source": [
    "SNlarge_pd = dfSN_pd.nlargest(5, \"Price\", keep='first')\n",
    "#SNlarge_pd"
   ]
  },
  {
   "cell_type": "code",
   "execution_count": 34,
   "metadata": {},
   "outputs": [],
   "source": [
    "Total_Purchases1_pd = purchases_pd.groupby(['SN'], as_index=False).count()\n",
    "#Total_Purchases1_pd.head()"
   ]
  },
  {
   "cell_type": "code",
   "execution_count": 35,
   "metadata": {},
   "outputs": [],
   "source": [
    "merge_topspend1_pd = pd.merge(SNlarge_pd, Total_Purchases1_pd, on=\"SN\")\n",
    "#merge_topspend1_pd"
   ]
  },
  {
   "cell_type": "code",
   "execution_count": 36,
   "metadata": {},
   "outputs": [],
   "source": [
    "Price_Purchases1_pd = purchases_pd.groupby(['SN'], as_index=False).Price.mean()\n",
    "#Price_Purchases1_pd.head()"
   ]
  },
  {
   "cell_type": "code",
   "execution_count": 37,
   "metadata": {},
   "outputs": [],
   "source": [
    "merge_topspend2_pd = pd.merge(merge_topspend1_pd, Price_Purchases1_pd, on=\"SN\")\n",
    "#merge_topspend2_pd"
   ]
  },
  {
   "cell_type": "code",
   "execution_count": 38,
   "metadata": {},
   "outputs": [],
   "source": [
    "TopSpenders1_pd = merge_topspend2_pd.drop(columns=['Age', 'Gender', 'Item ID', 'Item Name', 'Price_y', 'Age Categories'])\n",
    "#TopSpenders1_pd\n",
    "\n"
   ]
  },
  {
   "cell_type": "code",
   "execution_count": 39,
   "metadata": {},
   "outputs": [
    {
     "data": {
      "text/html": [
       "<div>\n",
       "<style scoped>\n",
       "    .dataframe tbody tr th:only-of-type {\n",
       "        vertical-align: middle;\n",
       "    }\n",
       "\n",
       "    .dataframe tbody tr th {\n",
       "        vertical-align: top;\n",
       "    }\n",
       "\n",
       "    .dataframe thead th {\n",
       "        text-align: right;\n",
       "    }\n",
       "</style>\n",
       "<table border=\"1\" class=\"dataframe\">\n",
       "  <thead>\n",
       "    <tr style=\"text-align: right;\">\n",
       "      <th></th>\n",
       "      <th>SN</th>\n",
       "      <th>Total Purchase Value</th>\n",
       "      <th>Purchase Count</th>\n",
       "      <th>Average Purchase Price</th>\n",
       "    </tr>\n",
       "  </thead>\n",
       "  <tbody>\n",
       "    <tr>\n",
       "      <th>0</th>\n",
       "      <td>Lisosia93</td>\n",
       "      <td>18.96</td>\n",
       "      <td>5</td>\n",
       "      <td>3.792000</td>\n",
       "    </tr>\n",
       "    <tr>\n",
       "      <th>1</th>\n",
       "      <td>Idastidru52</td>\n",
       "      <td>15.45</td>\n",
       "      <td>4</td>\n",
       "      <td>3.862500</td>\n",
       "    </tr>\n",
       "    <tr>\n",
       "      <th>2</th>\n",
       "      <td>Chamjask73</td>\n",
       "      <td>13.83</td>\n",
       "      <td>3</td>\n",
       "      <td>4.610000</td>\n",
       "    </tr>\n",
       "    <tr>\n",
       "      <th>3</th>\n",
       "      <td>Iral74</td>\n",
       "      <td>13.62</td>\n",
       "      <td>4</td>\n",
       "      <td>3.405000</td>\n",
       "    </tr>\n",
       "    <tr>\n",
       "      <th>4</th>\n",
       "      <td>Iskadarya95</td>\n",
       "      <td>13.10</td>\n",
       "      <td>3</td>\n",
       "      <td>4.366667</td>\n",
       "    </tr>\n",
       "  </tbody>\n",
       "</table>\n",
       "</div>"
      ],
      "text/plain": [
       "            SN  Total Purchase Value  Purchase Count  Average Purchase Price\n",
       "0    Lisosia93                 18.96               5                3.792000\n",
       "1  Idastidru52                 15.45               4                3.862500\n",
       "2   Chamjask73                 13.83               3                4.610000\n",
       "3       Iral74                 13.62               4                3.405000\n",
       "4  Iskadarya95                 13.10               3                4.366667"
      ]
     },
     "execution_count": 39,
     "metadata": {},
     "output_type": "execute_result"
    }
   ],
   "source": [
    "TopSpenders2_pd = TopSpenders1_pd.rename(columns={\"Price_x\": \"Total Purchase Value\", \"Purchase ID\": \"Purchase Count\", \"Price\": \"Average Purchase Price\"})\n",
    "TopSpenders2_pd"
   ]
  },
  {
   "cell_type": "code",
   "execution_count": 40,
   "metadata": {},
   "outputs": [],
   "source": [
    "#Identify the 5 most popular items by purchase count, then list (in a table):\n",
    "#Item ID\n",
    "#Item Name\n",
    "#Purchase Count\n",
    "#Item Price\n",
    "#Total Purchase Value"
   ]
  },
  {
   "cell_type": "code",
   "execution_count": 45,
   "metadata": {},
   "outputs": [],
   "source": [
    "dfSNitem_pd = purchases_pd.groupby(['Item Name', 'Item ID'], as_index=False).count()\n",
    "#dfSNitem_pd.head()"
   ]
  },
  {
   "cell_type": "code",
   "execution_count": 75,
   "metadata": {},
   "outputs": [],
   "source": [
    "Purchasecountlarge_pd = dfSNitem_pd.nlargest(5, \"Purchase ID\", keep='last')\n",
    "#Purchasecountlarge_pd"
   ]
  },
  {
   "cell_type": "code",
   "execution_count": 76,
   "metadata": {},
   "outputs": [],
   "source": [
    "dfitempr_pd = purchases_pd.groupby(['Item Name', 'Item ID'], as_index=False).Price.sum()\n",
    "#dfitempr_pd.head()"
   ]
  },
  {
   "cell_type": "code",
   "execution_count": 55,
   "metadata": {},
   "outputs": [],
   "source": [
    "#dfprbase_pd = purchases_pd[\"Price\"]\n",
    "#dfprbase_pd.head()"
   ]
  },
  {
   "cell_type": "code",
   "execution_count": 74,
   "metadata": {},
   "outputs": [],
   "source": [
    "merge_pop1_pd = pd.merge(dfitempr_pd, Purchasecountlarge_pd, on=\"Item ID\")\n",
    "#merge_pop1_pd"
   ]
  },
  {
   "cell_type": "code",
   "execution_count": 61,
   "metadata": {},
   "outputs": [
    {
     "data": {
      "text/html": [
       "<div>\n",
       "<style scoped>\n",
       "    .dataframe tbody tr th:only-of-type {\n",
       "        vertical-align: middle;\n",
       "    }\n",
       "\n",
       "    .dataframe tbody tr th {\n",
       "        vertical-align: top;\n",
       "    }\n",
       "\n",
       "    .dataframe thead th {\n",
       "        text-align: right;\n",
       "    }\n",
       "</style>\n",
       "<table border=\"1\" class=\"dataframe\">\n",
       "  <thead>\n",
       "    <tr style=\"text-align: right;\">\n",
       "      <th></th>\n",
       "      <th>Item Name</th>\n",
       "      <th>Item ID</th>\n",
       "      <th>Total Purchase Value</th>\n",
       "      <th>Purchase Count</th>\n",
       "      <th>Item Price</th>\n",
       "    </tr>\n",
       "  </thead>\n",
       "  <tbody>\n",
       "    <tr>\n",
       "      <th>0</th>\n",
       "      <td>Extraction, Quickblade Of Trembling Hands</td>\n",
       "      <td>108</td>\n",
       "      <td>31.77</td>\n",
       "      <td>9</td>\n",
       "      <td>3.53</td>\n",
       "    </tr>\n",
       "    <tr>\n",
       "      <th>1</th>\n",
       "      <td>Fiery Glass Crusader</td>\n",
       "      <td>145</td>\n",
       "      <td>41.22</td>\n",
       "      <td>9</td>\n",
       "      <td>4.58</td>\n",
       "    </tr>\n",
       "    <tr>\n",
       "      <th>2</th>\n",
       "      <td>Nirvana</td>\n",
       "      <td>82</td>\n",
       "      <td>44.10</td>\n",
       "      <td>9</td>\n",
       "      <td>4.90</td>\n",
       "    </tr>\n",
       "    <tr>\n",
       "      <th>3</th>\n",
       "      <td>Oathbreaker, Last Hope of the Breaking Storm</td>\n",
       "      <td>178</td>\n",
       "      <td>50.76</td>\n",
       "      <td>12</td>\n",
       "      <td>4.23</td>\n",
       "    </tr>\n",
       "    <tr>\n",
       "      <th>4</th>\n",
       "      <td>Wolf</td>\n",
       "      <td>60</td>\n",
       "      <td>28.32</td>\n",
       "      <td>8</td>\n",
       "      <td>3.54</td>\n",
       "    </tr>\n",
       "  </tbody>\n",
       "</table>\n",
       "</div>"
      ],
      "text/plain": [
       "                                      Item Name  Item ID  \\\n",
       "0     Extraction, Quickblade Of Trembling Hands      108   \n",
       "1                          Fiery Glass Crusader      145   \n",
       "2                                       Nirvana       82   \n",
       "3  Oathbreaker, Last Hope of the Breaking Storm      178   \n",
       "4                                          Wolf       60   \n",
       "\n",
       "   Total Purchase Value  Purchase Count  Item Price  \n",
       "0                 31.77               9        3.53  \n",
       "1                 41.22               9        4.58  \n",
       "2                 44.10               9        4.90  \n",
       "3                 50.76              12        4.23  \n",
       "4                 28.32               8        3.54  "
      ]
     },
     "execution_count": 61,
     "metadata": {},
     "output_type": "execute_result"
    }
   ],
   "source": [
    "merge_pop2_pd = merge_pop1_pd.drop(columns=['Item Name_y', 'SN', 'Age', 'Gender', 'Price_y', 'Age Categories'])\n",
    "merge_pop3_pd = merge_pop2_pd.rename(columns={\"Item Name_x\": \"Item Name\", \"Purchase ID\": \"Purchase Count\", \"Price_x\": \"Total Purchase Value\"})\n",
    "\n",
    "#merge_pop3_pd\n",
    "\n",
    "merge_pop3_pd[\"Item Price\"] = merge_pop3_pd[\"Total Purchase Value\"]/merge_pop3_pd[\"Purchase Count\"]\n",
    "merge_pop3_pd"
   ]
  },
  {
   "cell_type": "code",
   "execution_count": 69,
   "metadata": {},
   "outputs": [],
   "source": [
    "#Identify the 5 most profitable items by total purchase value, then list (in a table):\n",
    "#Item ID\n",
    "#Item Name\n",
    "#Purchase Count\n",
    "#Item Price\n",
    "#Total Purchase Value"
   ]
  },
  {
   "cell_type": "code",
   "execution_count": 70,
   "metadata": {},
   "outputs": [],
   "source": [
    "dfitem_pd = purchases_pd.groupby(['Item Name', 'Item ID'], as_index=False).Price.sum()\n",
    "#dfitem_pd.head()"
   ]
  },
  {
   "cell_type": "code",
   "execution_count": 71,
   "metadata": {},
   "outputs": [],
   "source": [
    "itemprofit_pd = dfitem_pd.nlargest(5, \"Price\", keep='first')\n",
    "#itemprofit_pd\n",
    "\n",
    "itemprofit1_pd = itemprofit_pd.rename(columns={\"Price\": \"Total Purchase Value\"})\n",
    "#itemprofit1_pd"
   ]
  },
  {
   "cell_type": "code",
   "execution_count": 72,
   "metadata": {},
   "outputs": [],
   "source": [
    "merge_prof1_pd = pd.merge(dfSNitem_pd, itemprofit1_pd, on=\"Item ID\")\n",
    "#merge_prof1_pd"
   ]
  },
  {
   "cell_type": "code",
   "execution_count": 80,
   "metadata": {},
   "outputs": [
    {
     "data": {
      "text/html": [
       "<div>\n",
       "<style scoped>\n",
       "    .dataframe tbody tr th:only-of-type {\n",
       "        vertical-align: middle;\n",
       "    }\n",
       "\n",
       "    .dataframe tbody tr th {\n",
       "        vertical-align: top;\n",
       "    }\n",
       "\n",
       "    .dataframe thead th {\n",
       "        text-align: right;\n",
       "    }\n",
       "</style>\n",
       "<table border=\"1\" class=\"dataframe\">\n",
       "  <thead>\n",
       "    <tr style=\"text-align: right;\">\n",
       "      <th></th>\n",
       "      <th>Item Name</th>\n",
       "      <th>Item ID</th>\n",
       "      <th>Purchase Count</th>\n",
       "      <th>Total Purchase Value</th>\n",
       "      <th>Item Price</th>\n",
       "    </tr>\n",
       "  </thead>\n",
       "  <tbody>\n",
       "    <tr>\n",
       "      <th>0</th>\n",
       "      <td>Fiery Glass Crusader</td>\n",
       "      <td>145</td>\n",
       "      <td>9</td>\n",
       "      <td>41.22</td>\n",
       "      <td>4.58</td>\n",
       "    </tr>\n",
       "    <tr>\n",
       "      <th>1</th>\n",
       "      <td>Final Critic</td>\n",
       "      <td>92</td>\n",
       "      <td>8</td>\n",
       "      <td>39.04</td>\n",
       "      <td>4.88</td>\n",
       "    </tr>\n",
       "    <tr>\n",
       "      <th>2</th>\n",
       "      <td>Nirvana</td>\n",
       "      <td>82</td>\n",
       "      <td>9</td>\n",
       "      <td>44.10</td>\n",
       "      <td>4.90</td>\n",
       "    </tr>\n",
       "    <tr>\n",
       "      <th>3</th>\n",
       "      <td>Oathbreaker, Last Hope of the Breaking Storm</td>\n",
       "      <td>178</td>\n",
       "      <td>12</td>\n",
       "      <td>50.76</td>\n",
       "      <td>4.23</td>\n",
       "    </tr>\n",
       "    <tr>\n",
       "      <th>4</th>\n",
       "      <td>Singed Scalpel</td>\n",
       "      <td>103</td>\n",
       "      <td>8</td>\n",
       "      <td>34.80</td>\n",
       "      <td>4.35</td>\n",
       "    </tr>\n",
       "  </tbody>\n",
       "</table>\n",
       "</div>"
      ],
      "text/plain": [
       "                                      Item Name  Item ID  Purchase Count  \\\n",
       "0                          Fiery Glass Crusader      145               9   \n",
       "1                                  Final Critic       92               8   \n",
       "2                                       Nirvana       82               9   \n",
       "3  Oathbreaker, Last Hope of the Breaking Storm      178              12   \n",
       "4                                Singed Scalpel      103               8   \n",
       "\n",
       "   Total Purchase Value  Item Price  \n",
       "0                 41.22        4.58  \n",
       "1                 39.04        4.88  \n",
       "2                 44.10        4.90  \n",
       "3                 50.76        4.23  \n",
       "4                 34.80        4.35  "
      ]
     },
     "execution_count": 80,
     "metadata": {},
     "output_type": "execute_result"
    }
   ],
   "source": [
    "merge_prof2_pd = merge_prof1_pd.drop(columns=['Item Name_y', 'SN', 'Age', 'Gender', 'Price', 'Age Categories', 'Item Name_y'])\n",
    "merge_prof3_pd = merge_prof2_pd.rename(columns={\"Item Name_x\": \"Item Name\", \"Purchase ID\": \"Purchase Count\"})\n",
    "merge_prof3_pd[\"Item Price\"] = merge_prof3_pd[\"Total Purchase Value\"]/merge_prof3_pd[\"Purchase Count\"]\n",
    "merge_prof3_pd"
   ]
  },
  {
   "cell_type": "markdown",
   "metadata": {},
   "source": [
    "#3 Observable Trends\n",
    "\n",
    "1) Most purchases are made for ages 20-24 ($1114 for total purchase value) and most customers are male (about 84%).\n",
    "2) Purchase count wasn't always consistent for total purchase value, but the item with the highest purchase value also had\n",
    "the highest purchase count (Oathbreaker.)\n",
    "3) Males spent and purchased more than females. However, the average price (not total) was higher for females ($4.47 vs. $4.07)"
   ]
  }
 ],
 "metadata": {
  "kernelspec": {
   "display_name": "Python 3",
   "language": "python",
   "name": "python3"
  },
  "language_info": {
   "codemirror_mode": {
    "name": "ipython",
    "version": 3
   },
   "file_extension": ".py",
   "mimetype": "text/x-python",
   "name": "python",
   "nbconvert_exporter": "python",
   "pygments_lexer": "ipython3",
   "version": "3.7.0"
  }
 },
 "nbformat": 4,
 "nbformat_minor": 2
}
